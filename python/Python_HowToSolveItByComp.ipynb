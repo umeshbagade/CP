{
  "nbformat": 4,
  "nbformat_minor": 0,
  "metadata": {
    "colab": {
      "name": "Python_HowToSolveItByComp.ipynb",
      "provenance": [],
      "collapsed_sections": [],
      "authorship_tag": "ABX9TyN9TB20mKfT7YvPxI6607jo",
      "include_colab_link": true
    },
    "kernelspec": {
      "name": "python3",
      "display_name": "Python 3"
    },
    "language_info": {
      "name": "python"
    }
  },
  "cells": [
    {
      "cell_type": "markdown",
      "metadata": {
        "id": "view-in-github",
        "colab_type": "text"
      },
      "source": [
        "<a href=\"https://colab.research.google.com/github/umeshbagade/CP/blob/main/python/Python_HowToSolveItByComp.ipynb\" target=\"_parent\"><img src=\"https://colab.research.google.com/assets/colab-badge.svg\" alt=\"Open In Colab\"/></a>"
      ]
    },
    {
      "cell_type": "markdown",
      "source": [
        "2.1.1 Given two glasses A and B. Glass A is fulll of raspberry drink and glass B is full of lemonade. Suggest a way of exchanging the contents of glasses A and B."
      ],
      "metadata": {
        "id": "n4lvfu6VC-Ys"
      }
    },
    {
      "cell_type": "code",
      "execution_count": null,
      "metadata": {
        "id": "1Xr6UZifCqkR",
        "colab": {
          "base_uri": "https://localhost:8080/"
        },
        "outputId": "2d8d9977-d9a8-4109-982e-4795921e718f"
      },
      "outputs": [
        {
          "output_type": "stream",
          "name": "stdout",
          "text": [
            "Contents of A : raspberry drink\n",
            "Contents of B : lemonade drink\n",
            "After swaping the contents:\n",
            "Contents of A : lemonade drink\n",
            "Contents of B : raspberry drink\n"
          ]
        }
      ],
      "source": [
        "A = \"raspberry drink\"\n",
        "B = \"lemonade drink\"\n",
        "print(f\"Contents of A : {A}\")\n",
        "print(f\"Contents of B : {B}\")\n",
        "\n",
        "T = A\n",
        "A = B\n",
        "B =T\n",
        "print(\"After swaping the contents:\")\n",
        "print(f\"Contents of A : {A}\")\n",
        "print(f\"Contents of B : {B}\")"
      ]
    },
    {
      "cell_type": "markdown",
      "source": [
        "2.1.2 Design an algorithm that makes the following exahanges:   a->b->c  and c->a  the arrows indicate that b is to assume the value of a,c the value of b, and so on."
      ],
      "metadata": {
        "id": "qctkfYlVKdYz"
      }
    },
    {
      "cell_type": "code",
      "source": [
        "a = 5\n",
        "b = 6\n",
        "c = 7\n",
        "print(\"Values Before Swap :\")\n",
        "print(f\" Value of a = {a}\")\n",
        "print(f\" Value of b = {b}\")\n",
        "print(f\" Value of c = {c}\")\n",
        "\n",
        "temp = b\n",
        "b = a\n",
        "a = c\n",
        "c = temp\n",
        "\n",
        "print(\"Values After Swap :\")\n",
        "print(f\" Value of a = {a}\")\n",
        "print(f\" Value of b = {b}\")\n",
        "print(f\" Value of c = {c}\")\n"
      ],
      "metadata": {
        "colab": {
          "base_uri": "https://localhost:8080/"
        },
        "id": "3BUB_LU2KuYc",
        "outputId": "3703d452-d92f-422f-b003-dc4d8c8ff371"
      },
      "execution_count": null,
      "outputs": [
        {
          "output_type": "stream",
          "name": "stdout",
          "text": [
            "Values Before Swap :\n",
            " Value of a = 5\n",
            " Value of b = 6\n",
            " Value of c = 7\n",
            "Values After Swap :\n",
            " Value of a = 7\n",
            " Value of b = 5\n",
            " Value of c = 6\n"
          ]
        }
      ]
    },
    {
      "cell_type": "markdown",
      "source": [
        "2.1.3 Design an algorithm that makes the following exchanges:\n",
        "  a <- b <- c <- d  and a->d"
      ],
      "metadata": {
        "id": "4VuYIBRFLgMt"
      }
    },
    {
      "cell_type": "code",
      "source": [
        "a = 1\n",
        "b = 2\n",
        "c = 3\n",
        "d = 4\n",
        "\n",
        "print(\"Values Before Swap :\")\n",
        "print(f\" Value of a = {a}\")\n",
        "print(f\" Value of b = {b}\")\n",
        "print(f\" Value of c = {c}\")\n",
        "print(f\" Value of d = {d}\")\n",
        "temp = a\n",
        "a = b\n",
        "b = c\n",
        "c = d\n",
        "d = temp\n",
        "\n",
        "print(\"Values After Swap :\")\n",
        "print(f\" Value of a = {a}\")\n",
        "print(f\" Value of b = {b}\")\n",
        "print(f\" Value of c = {c}\")\n",
        "print(f\" Value of d = {d}\")"
      ],
      "metadata": {
        "colab": {
          "base_uri": "https://localhost:8080/"
        },
        "id": "6oAoPNx6Lu0e",
        "outputId": "5d1ef805-544d-4bfa-a815-db9702a10453"
      },
      "execution_count": null,
      "outputs": [
        {
          "output_type": "stream",
          "name": "stdout",
          "text": [
            "Values Before Swap :\n",
            " Value of a = 1\n",
            " Value of b = 2\n",
            " Value of c = 3\n",
            " Value of d = 4\n",
            "Values After Swap :\n",
            " Value of a = 2\n",
            " Value of b = 3\n",
            " Value of c = 4\n",
            " Value of d = 1\n"
          ]
        }
      ]
    },
    {
      "cell_type": "markdown",
      "source": [
        "2.1.4 Given two variables of integer type a and b, exchange their values without using a third tempotaty variable"
      ],
      "metadata": {
        "id": "XKpU3steM_Vh"
      }
    },
    {
      "cell_type": "code",
      "source": [
        "a = 5\n",
        "b = 10\n",
        "\n",
        "print(f\" Value of before Swap :\")\n",
        "print(f\" Value of a = {a}\")\n",
        "print(f\" Value of b = {b}\")\n",
        "# a, b = b, a // or\n",
        "a = a+b\n",
        "b = a-b\n",
        "a = a-b\n",
        "\n",
        "print(f\" Value of after Swap :\")\n",
        "print(f\" Value of a = {a}\")\n",
        "print(f\" Value of b = {b}\")"
      ],
      "metadata": {
        "colab": {
          "base_uri": "https://localhost:8080/"
        },
        "id": "3ovjqAzCOF6t",
        "outputId": "4c568210-9332-46aa-8900-149ace67bf57"
      },
      "execution_count": null,
      "outputs": [
        {
          "output_type": "stream",
          "name": "stdout",
          "text": [
            " Value of before Swap :\n",
            " Value of a = 5\n",
            " Value of b = 10\n",
            " Value of after Swap :\n",
            " Value of a = 10\n",
            " Value of b = 5\n"
          ]
        }
      ]
    },
    {
      "cell_type": "markdown",
      "source": [
        "2.2 Given a set of n students' examination marks (in range 0 to 100) make a count of the number of students that passed the examination. A pass is awarded for all marks of 50 and above."
      ],
      "metadata": {
        "id": "tGl4gROvP7HE"
      }
    },
    {
      "cell_type": "code",
      "source": [
        "print(\"Enter the number of Students \")\n",
        "n  = int(input())\n",
        "print(f\"Enter the marks of {n} students : \")\n",
        "lst = list(map(int,input(\"\\nEnter the Marks of Students: \").strip().split()))[:n]\n",
        "count = 0\n",
        "for i in lst:\n",
        "  if i>=50:\n",
        "    count = count+1\n",
        "print(f\"{count} students passed out of {n} students\")\n"
      ],
      "metadata": {
        "id": "Gp8db-0UQLIe"
      },
      "execution_count": null,
      "outputs": []
    },
    {
      "cell_type": "markdown",
      "source": [
        "2.2.1 Modify the algorithm above so that marks are read until an end-of-file is encountered. For this set of marks determine the total number of marks, the number of passes, and the precentage pass rate."
      ],
      "metadata": {
        "id": "jLwbWgptOpET"
      }
    },
    {
      "cell_type": "code",
      "source": [
        "lst = list(map(int,input(\"\\nEnter the Marks of Students: \").strip().split()))[:n]\n",
        "n = len(lst)\n",
        "count = 0\n",
        "total=0\n",
        "for i in lst:\n",
        "  if i>=50:\n",
        "    count = count+1\n",
        "    total = i+total\n",
        "print(f\"Total no of Students/Marks : {n}\")\n",
        "print(f\"Total no of students Passed : {count}\")\n",
        "print(f\"Sum of the Marks of Students: {total}\")\n",
        "per = count*100/n\n",
        "print(f\"Percentage Pass Rate : {per}\")"
      ],
      "metadata": {
        "id": "yURI7De2PllT"
      },
      "execution_count": null,
      "outputs": []
    },
    {
      "cell_type": "markdown",
      "source": [
        "2.2.2 Design an algorithm that reads a list of numbers and makes a count of the number of negatives and the number of non-negative members in the set\n"
      ],
      "metadata": {
        "id": "YxMV3MyxUxDi"
      }
    },
    {
      "cell_type": "code",
      "source": [
        "lst = list(map(int,input(\"\\nEnter the Marks of Students: \").split(\" \")))\n",
        "n = len(lst)\n",
        "positive = 0\n",
        "negative = 0\n",
        "for i in lst:\n",
        "  if i >= 0:\n",
        "    positive+=1\n",
        "  else:\n",
        "    negative+=1\n",
        "print(f\"The number of Negative Numbers in List is {negative}\")\n",
        "print(f\"The number of Positive Numbers in List is {positive}\")"
      ],
      "metadata": {
        "id": "rY6FceAcVAjh"
      },
      "execution_count": null,
      "outputs": []
    },
    {
      "cell_type": "markdown",
      "source": [
        "2.3.1 Design an algorithm to compute the average of n numbers."
      ],
      "metadata": {
        "id": "KqSuzBi-Z_X8"
      }
    },
    {
      "cell_type": "code",
      "source": [
        "lst = list(map(int,input(\"\\nEnter the Numbers: \").split(\" \")))\n",
        "n = len(lst)\n",
        "total=0\n",
        "for i in lst:\n",
        "  total += i\n",
        "\n",
        "avg = total/n\n",
        "print(f\" The average of given {n} numbers is {avg}\")"
      ],
      "metadata": {
        "id": "HePCXyB7aH1b"
      },
      "execution_count": null,
      "outputs": []
    },
    {
      "cell_type": "markdown",
      "source": [
        "2.3.2 Redesign the algorithm so that it only needs to perform n-1 additions to sum n numbers."
      ],
      "metadata": {
        "id": "qqt9zrMianHu"
      }
    },
    {
      "cell_type": "code",
      "source": [
        "lst = list(map(int,input(\"\\nEnter the Numbers: \").split(\" \")))\n",
        "n = len(lst)\n",
        "total=lst[0]\n",
        "for i in range(1,n):\n",
        "  total += lst[i]\n",
        "\n",
        "avg = total/n\n",
        "print(f\" The average of given {n} numbers is {avg}\")"
      ],
      "metadata": {
        "id": "KCPWdB-wazvc"
      },
      "execution_count": null,
      "outputs": []
    },
    {
      "cell_type": "markdown",
      "source": [
        "2.3.3 Design an algorithm to compute the sum of the squares of n numbers."
      ],
      "metadata": {
        "id": "BOYuSGgsbOIc"
      }
    },
    {
      "cell_type": "code",
      "source": [
        "lst = list(map(int,input(\"\\nEnter the Numbers: \").split(\" \")))\n",
        "n = len(lst)\n",
        "total=lst[0]*lst[0]\n",
        "for i in range(1,n):\n",
        "  total += (lst[i]*lst[i])\n",
        "\n",
        "\n",
        "print(f\" The sum of squares of given {n} numbers is {total}\")"
      ],
      "metadata": {
        "id": "sp5dohGgbW_F"
      },
      "execution_count": null,
      "outputs": []
    },
    {
      "cell_type": "markdown",
      "source": [
        "2.3.4 The harmonic mean is sometimes used as a mean of central tendency. Develop an algorithm to compute the harmonic mean of n data values.\n"
      ],
      "metadata": {
        "id": "D6xK8K5aby5d"
      }
    },
    {
      "cell_type": "code",
      "source": [
        "lst = list(map(int,input(\"\\nEnter the Numbers: \").split(\" \")))\n",
        "n = len(lst)\n",
        "total=0\n",
        "for i in lst:\n",
        "  total += 1/i\n",
        "\n",
        "harmonic_mean = n/total\n",
        "print(f\" The harmonic mean of given numbers is {harmonic_mean}\")"
      ],
      "metadata": {
        "id": "nq1ThKGEcS9V"
      },
      "execution_count": null,
      "outputs": []
    },
    {
      "cell_type": "markdown",
      "source": [
        "2.3.5 Develop an algorithm to compute the sums for the first n terms (n>=0) of the following series:\n",
        "a. s = 1+2+3+...\n",
        "b. s = 1+3+5+...\n",
        "c. s = 2+4+6+...\n",
        "d. s = 1+1/2+1/3+...\n"
      ],
      "metadata": {
        "id": "fxnfzIwrcrem"
      }
    },
    {
      "cell_type": "code",
      "source": [
        "n = int(input())\n",
        "s1 = 0\n",
        "for i in range(1,n+1):\n",
        "  s1 = s1+i\n",
        "print(f\"Sum as per first series is {s1}\")\n",
        "\n",
        "s2 = 0\n",
        "count = 0\n",
        "i=1\n",
        "while count<n:\n",
        "  if(i%2==1):\n",
        "    s2 = s2+i\n",
        "    count+=1\n",
        "  i+=1\n",
        "\n",
        "print(f\"Sum as per second series is {s2}\")\n",
        "\n",
        "s3 =0\n",
        "count =0\n",
        "i=2\n",
        "while count<n:\n",
        "  if(i%2==0):\n",
        "    s3 = s3+i\n",
        "    count+=1\n",
        "  i+=1\n",
        "print(f\"Sum as per third series is {s3}\")\n",
        "\n",
        "s4=0\n",
        "\n",
        "for i in range(1,n+1):\n",
        "  s4 = s4+1/i\n",
        "print(f\"Sum as per fourth series is {s4}\")"
      ],
      "metadata": {
        "id": "6fVAxTbcdFmZ"
      },
      "execution_count": null,
      "outputs": []
    },
    {
      "cell_type": "markdown",
      "source": [
        "2.3.6 Generate the first n terms of the sequence\n",
        "1 2 4 8 16 32"
      ],
      "metadata": {
        "id": "pzfJUspxgScz"
      }
    },
    {
      "cell_type": "code",
      "source": [
        "n = int(input())\n",
        "count =1\n",
        "i=1\n",
        "\n",
        "print(i),\n",
        "while count<n:\n",
        "  i = i*2\n",
        "  count+=1\n",
        "  print(i),"
      ],
      "metadata": {
        "id": "jkTp7Jmcgeax"
      },
      "execution_count": null,
      "outputs": []
    },
    {
      "cell_type": "markdown",
      "source": [
        "2.3.7 Develop an algorithm that prints out n values of the sequence:\n",
        "1 -1 1 -1 1 -1 1 ..."
      ],
      "metadata": {
        "id": "jn6vMwChhdY7"
      }
    },
    {
      "cell_type": "code",
      "source": [
        "n = int(input())\n",
        "for i in range(n):\n",
        "  if(i%2==0):\n",
        "    print(1)\n",
        "  else:\n",
        "    print(-1)"
      ],
      "metadata": {
        "id": "QkRiYfZJhtNB"
      },
      "execution_count": null,
      "outputs": []
    },
    {
      "cell_type": "markdown",
      "source": [
        "2.3.8 Develop an algorithm to compute the sum of the first n terms(n>=1) of the series\n",
        "\n",
        "s= 1-3+5-7+9"
      ],
      "metadata": {
        "id": "Yr_6m60piF4C"
      }
    },
    {
      "cell_type": "code",
      "source": [
        "n = int(input())\n",
        "i=1\n",
        "isPositive = 1\n",
        "sum=0\n",
        "count=0\n",
        "while count<n:\n",
        "  if i % 2 == 1:\n",
        "    if isPositive==1:\n",
        "      sum += i\n",
        "      isPositive=0\n",
        "    else:\n",
        "      sum -= i\n",
        "      isPositive=1\n",
        "    count+=1\n",
        "  i+=1\n",
        "\n",
        "print(f\"The Calculated sum is {sum}\")"
      ],
      "metadata": {
        "id": "lxt-cTyXkUfC"
      },
      "execution_count": null,
      "outputs": []
    },
    {
      "cell_type": "markdown",
      "source": [
        "2.4 Given a number n, compute n factorial (written as n!) where n>=0"
      ],
      "metadata": {
        "id": "AbMwPH0zwtEx"
      }
    },
    {
      "cell_type": "code",
      "source": [
        "n = int(input())\n",
        "factorial =1\n",
        "for i in range(1,n+1):\n",
        "  factorial = factorial*i\n",
        "print(f\"Factorial of {n} is {factorial}\")"
      ],
      "metadata": {
        "id": "DMEkkMY6w0_H"
      },
      "execution_count": null,
      "outputs": []
    },
    {
      "cell_type": "markdown",
      "source": [
        "2.4.1 For a given n, design an algorithm to compute 1/n!"
      ],
      "metadata": {
        "id": "VWxkrrjUxMIs"
      }
    },
    {
      "cell_type": "code",
      "source": [
        "n = int(input())\n",
        "factorial =1\n",
        "for i in range(1,n+1):\n",
        "  factorial = factorial*i\n",
        "\n",
        "factorial = 1/factorial\n",
        "print(f\"1/{n}! factorial is {factorial}\")\n"
      ],
      "metadata": {
        "id": "klIR4lfaxWPi"
      },
      "execution_count": null,
      "outputs": []
    },
    {
      "cell_type": "markdown",
      "source": [
        "2.4.2 For a given x and a given n, design an algorithm to compute x^n/n!."
      ],
      "metadata": {
        "id": "jybtLhO0xyrz"
      }
    },
    {
      "cell_type": "code",
      "source": [
        "x = int(input(\"Enter the Value of x: \"))\n",
        "n = int(input(\"Enter the Value of n: \"))\n",
        "fact=1\n",
        "for i in range(1,n+1):\n",
        "  fact = fact * i\n",
        "\n",
        "result = pow(x,n)/fact\n",
        "print(f\"Result is {result}\")"
      ],
      "metadata": {
        "id": "aVnT3g21x8IW"
      },
      "execution_count": null,
      "outputs": []
    },
    {
      "cell_type": "markdown",
      "source": [
        "2.4.3 Design an algorithm to determine whether or not a number n is a factorial number"
      ],
      "metadata": {
        "id": "mQEe6bGDy7OD"
      }
    },
    {
      "cell_type": "code",
      "source": [
        "def isFactorial(n) :\n",
        "    i = 1;\n",
        "    while(True) :\n",
        "         \n",
        "        if (n % i == 0) :\n",
        "            n //= i;\n",
        "             \n",
        "        else :\n",
        "            break;\n",
        "             \n",
        "        i += 1;\n",
        " \n",
        "    if (n == 1) :\n",
        "        return True;\n",
        "     \n",
        "    else :\n",
        "        return False;\n",
        " \n",
        "\n",
        "n = int(input());\n",
        "ans = isFactorial(n)\n",
        "if (ans == 1) :\n",
        "  print(\"Yes\")\n",
        "else :\n",
        "  print(\"No\")"
      ],
      "metadata": {
        "id": "Vzvn6jIezfl-"
      },
      "execution_count": null,
      "outputs": []
    },
    {
      "cell_type": "markdown",
      "source": [
        "2.4.4 Design an algorithm which, given some integer n, finds the largest factorial numer present as a factor in n"
      ],
      "metadata": {
        "id": "TB8YsP1-z4ai"
      }
    },
    {
      "cell_type": "code",
      "source": [
        "def isFactorial(n) :\n",
        "    i = 1\n",
        "    while(True) :\n",
        "         \n",
        "        if (n % i == 0) :\n",
        "            n //= i\n",
        "             \n",
        "        else :\n",
        "            break\n",
        "             \n",
        "        i += 1;\n",
        " \n",
        "    if (n == 1) :\n",
        "        return True\n",
        "     \n",
        "    else :\n",
        "        return False\n",
        "      \n",
        "n = int(input())\n",
        "largest_fact = 0\n",
        "for i in range(1,n+1):\n",
        "  if n%i==0:\n",
        "    if isFactorial(i):\n",
        "      largest_fact = i\n",
        "\n",
        "if largest_fact==0:\n",
        "  print(f\"Largest factorial not found...\")\n",
        "else:\n",
        "  print(f\"Largest factor which is factorial is {largest_fact}\")"
      ],
      "metadata": {
        "colab": {
          "base_uri": "https://localhost:8080/"
        },
        "id": "eizOoVEU0BuV",
        "outputId": "ef78fe1f-f7a2-49f9-fda1-ec191e78d9c3"
      },
      "execution_count": null,
      "outputs": [
        {
          "output_type": "stream",
          "name": "stdout",
          "text": [
            "120\n",
            "Largest factor which is factorial is 120\n"
          ]
        }
      ]
    },
    {
      "cell_type": "markdown",
      "source": [
        "2.4.5 Design an algorithm to simulate multiplication by addition. Your program should accept as input two integers (they may be zero, positive, or negative)."
      ],
      "metadata": {
        "id": "elPpMDT01XgD"
      }
    },
    {
      "cell_type": "code",
      "source": [
        "x = int(input())\n",
        "y = int(input())\n",
        "mul = 0\n",
        "for i in range(0,x):\n",
        "  mul+=y\n",
        "\n",
        "print(f\"Multiplication of {x} and {y} is {mul}\")"
      ],
      "metadata": {
        "id": "dUOvHqUd2ZDc"
      },
      "execution_count": null,
      "outputs": []
    },
    {
      "cell_type": "markdown",
      "source": [
        "2.5.1 Design an algorithm to find the sum of the first n terms of the series\n",
        "\n",
        "fs = 0!+1!+2!+3!+...n! (n>=0)"
      ],
      "metadata": {
        "id": "StoAEBebFWlY"
      }
    },
    {
      "cell_type": "code",
      "source": [
        "n  = int(input())\n",
        "sum =0\n",
        "fact =1\n",
        "for i in range(1,n+1):\n",
        "  fact = fact*i\n",
        "  sum = sum+fact\n",
        "\n",
        "print(f\"The sum of factorials of first {n} integers i {sum}\")"
      ],
      "metadata": {
        "colab": {
          "base_uri": "https://localhost:8080/"
        },
        "id": "YDOL0O4B2Xz-",
        "outputId": "73fa4a35-4144-4d13-deaf-b6f526034de4"
      },
      "execution_count": null,
      "outputs": [
        {
          "output_type": "stream",
          "name": "stdout",
          "text": [
            "5\n",
            "The sum of factorials of first 5 integers i 153\n"
          ]
        }
      ]
    },
    {
      "cell_type": "markdown",
      "source": [
        "2.5.2 The exponential growth constant e is characterized by the expression\n",
        "\n",
        "e = 1/0!+1/1!+1/2!+...\n",
        "\n",
        "Devise an algorithm to compute e to n terms"
      ],
      "metadata": {
        "id": "8O6D37jxGdQ5"
      }
    },
    {
      "cell_type": "code",
      "source": [
        "e = 0\n",
        "fact =1\n",
        "n = int(input())\n",
        "for i in range(1,n+1):\n",
        "  fact= fact*i\n",
        "  e += 1/fact\n",
        "print(f\"Value of e is {e}\")"
      ],
      "metadata": {
        "colab": {
          "base_uri": "https://localhost:8080/"
        },
        "id": "AcrKzU5YGvTM",
        "outputId": "3e2a8040-1f96-4cac-ab79-892bc7b1871f"
      },
      "execution_count": null,
      "outputs": [
        {
          "output_type": "stream",
          "name": "stdout",
          "text": [
            "4\n",
            "Value of e is 1.7083333333333335\n"
          ]
        }
      ]
    },
    {
      "cell_type": "markdown",
      "source": [
        "2.5.3 Design an algorithm to evaluate the function cos(x) as defined by the infinite series expansion\n",
        "\n",
        "cos(x) = 1 - x^2/2! + x^4/4! - x^6/6! + ..\n",
        "\n",
        "The acceptable error for the computation is 1/1000000"
      ],
      "metadata": {
        "id": "68zQjDE8HLc3"
      }
    },
    {
      "cell_type": "code",
      "source": [
        "\n",
        "PI = 3.142;\n",
        " \n",
        "def cosXSertiesSum(x, n):\n",
        "     \n",
        "    x = x * (PI / 180.0);\n",
        " \n",
        "    res = 1;\n",
        "    sign = 1;\n",
        "    fact = 1;\n",
        "    pow = 1;\n",
        "     \n",
        "    for i in range(1,5):\n",
        "        sign = sign * (-1);\n",
        "        fact = fact * (2 * i - 1) * (2 * i);\n",
        "        pow = pow * x * x;\n",
        "        res = res + sign * pow / fact;\n",
        " \n",
        "    return res;\n",
        " \n",
        "\n",
        "x = 50;\n",
        "n = 5;\n",
        "print(round(cosXSertiesSum(x, 5), 6));"
      ],
      "metadata": {
        "colab": {
          "base_uri": "https://localhost:8080/"
        },
        "id": "Mxjr6RCWHkJh",
        "outputId": "d4c53940-27ef-408c-e006-ca4bd47c1fb5"
      },
      "execution_count": null,
      "outputs": [
        {
          "output_type": "stream",
          "name": "stdout",
          "text": [
            "0.642701\n"
          ]
        }
      ]
    },
    {
      "cell_type": "markdown",
      "source": [
        "2.6.1 - Implement the Fibonacci algorithm as a function that accepts as input two consecutive Fibonacci numbers and returns as output the next Fibonacci number"
      ],
      "metadata": {
        "id": "fIPwfVm3X6hy"
      }
    },
    {
      "cell_type": "code",
      "source": [
        "def nextFibo(a,b):\n",
        "    return a+b\n",
        "\n",
        "a = int(input(\"Enter value for a: \"))\n",
        "b = int(input(\"Enter value for b: \"))\n",
        "print(\"The next Fibonacci number:\",nextFibo(a,b))"
      ],
      "metadata": {
        "id": "A_agb-V9X8e2"
      },
      "execution_count": null,
      "outputs": []
    },
    {
      "cell_type": "markdown",
      "source": [
        "2.6.2 The first few numbers of the Lucas sequence which is a variation on the Fibonacci sequence are:\n",
        "1 3 4 7 11 18 29 ...\n",
        "Design an algorithm to generate the Lucas sequence"
      ],
      "metadata": {
        "id": "swwUIoN4--Xm"
      }
    },
    {
      "cell_type": "code",
      "source": [
        "def lucas(n):\n",
        "    if n==0:\n",
        "        return 1\n",
        "    if n==1:\n",
        "        return 3\n",
        "    return lucas(n-1) + lucas(n-2)\n",
        "\n",
        "n = int(input(\"Enter a number: \"))\n",
        "print(\"Lucas Sequence:\",end=\" \")\n",
        "for i in range(n):\n",
        "    print(lucas(i),end=\" \")\n",
        "print()"
      ],
      "metadata": {
        "id": "3LZqFIWr_FZB"
      },
      "execution_count": null,
      "outputs": []
    },
    {
      "cell_type": "markdown",
      "source": [
        "2.6.3 Given a=0, b=1, and c=1 are the first three numbers of some sequence. \n",
        "All other numbers in the sequence are generated from the sum of their three most recent predecessors. \n",
        "Design an algorithm to generate this sequence.\n"
      ],
      "metadata": {
        "id": "24pLfirH-2aj"
      }
    },
    {
      "cell_type": "code",
      "source": [
        "\n",
        "seq = [0,1,1]\n",
        "n = int(input(\"Enter a number: \"))\n",
        "for i in range(n-3):\n",
        "    seq.append(seq[i]+seq[i+1]+seq[i+2])\n",
        "\n",
        "print(\"Generated sequence: \",end=\"\")\n",
        "for i in range(n):\n",
        "    print(seq[i],end=\" \")\n",
        "print()"
      ],
      "metadata": {
        "id": "p7lV21CE-9ED"
      },
      "execution_count": null,
      "outputs": []
    },
    {
      "cell_type": "markdown",
      "source": [
        "2.6.4 Given that two numbers d and e are suspected of being consecutive\n",
        "members of the Fibonacci sequence design an algorithm that will\n",
        "refute or confirm this conjecture"
      ],
      "metadata": {
        "id": "POhGrvEK_IKp"
      }
    },
    {
      "cell_type": "code",
      "source": [
        "def checkFiboCon(d,e):\n",
        "    seq = [0,1]\n",
        "    i=0\n",
        "    while True:\n",
        "        fibon = seq[i]+seq[i+1]\n",
        "        if(fibon<=e and (e!=1 or d==1)):\n",
        "            seq.append(fibon)\n",
        "        else:\n",
        "            break\n",
        "        i+=1\n",
        "\n",
        "    if(seq[-2]==d and seq[-1]==e):\n",
        "        print(f'{d} and {e} are consecutive members')\n",
        "    else:\n",
        "        print(f'{d} and {e} are not consecutive members')\n",
        "\n",
        "d, e = input(\"Enter two values: \").split()\n",
        "checkFiboCon(int(d),int(e))"
      ],
      "metadata": {
        "id": "TYJWU9NZ_One"
      },
      "execution_count": null,
      "outputs": []
    },
    {
      "cell_type": "markdown",
      "source": [
        "2.7.1 Design an algorithm that counts the number of digits in an integer"
      ],
      "metadata": {
        "id": "IgmC1t9cCC0G"
      }
    },
    {
      "cell_type": "code",
      "source": [
        "n=int(input(\"Enter number:\"))\n",
        "count=0\n",
        "while(n>0):\n",
        "    count=count+1\n",
        "    n=n//10\n",
        "print(\"The number of digits in the number are:\",count)"
      ],
      "metadata": {
        "colab": {
          "base_uri": "https://localhost:8080/"
        },
        "id": "7taCUnKTCIGT",
        "outputId": "4256f1e2-926b-4b01-fe7f-2a61a4b0c29f"
      },
      "execution_count": 82,
      "outputs": [
        {
          "output_type": "stream",
          "name": "stdout",
          "text": [
            "Enter number:123\n",
            "The number of digits in the number are: 3\n"
          ]
        }
      ]
    },
    {
      "cell_type": "markdown",
      "source": [
        "2.7.2 Design an algorithm to sum the digits in an integer"
      ],
      "metadata": {
        "id": "i5RAncLVCRcL"
      }
    },
    {
      "cell_type": "code",
      "source": [
        "def getSum(n):\n",
        " \n",
        "    sum = 0\n",
        "    while (n != 0):\n",
        " \n",
        "        sum = sum + int(n % 10)\n",
        "        n = int(n/10)\n",
        " \n",
        "    return sum\n",
        " \n",
        "n = int(input(\"Enter the number:\"))\n",
        "print(getSum(n))"
      ],
      "metadata": {
        "colab": {
          "base_uri": "https://localhost:8080/"
        },
        "id": "Olpcofu8CXLZ",
        "outputId": "6f29d1f2-41c8-465a-ea92-cd78ab5bc89d"
      },
      "execution_count": 83,
      "outputs": [
        {
          "output_type": "stream",
          "name": "stdout",
          "text": [
            "Enter the number:1234\n",
            "10\n"
          ]
        }
      ]
    },
    {
      "cell_type": "markdown",
      "source": [
        "2.7.3 Design an algorithm that reads in a set of n single decimal integer. \n",
        "\n",
        "For example, the algorithm should convert the set of 5 digits {2,7,4,9,3} to the integer 27493"
      ],
      "metadata": {
        "id": "IF-jr_PBCnFA"
      }
    },
    {
      "cell_type": "code",
      "source": [
        "lst = list(map(int,input(\"\\nEnter the Numbers: \").split(\" \")))\n",
        "number = 0\n",
        "\n",
        "for i in lst:\n",
        "  number = number *10 + i\n",
        "\n",
        "print(f\"The number is {number}\")\n",
        "\n"
      ],
      "metadata": {
        "colab": {
          "base_uri": "https://localhost:8080/"
        },
        "id": "4oIB3cmpC8zv",
        "outputId": "77d0c3c4-9390-4e7d-d723-ae16e0eb2459"
      },
      "execution_count": 84,
      "outputs": [
        {
          "output_type": "stream",
          "name": "stdout",
          "text": [
            "\n",
            "Enter the Numbers: 1 2 3 4\n",
            "The number is 1234\n"
          ]
        }
      ]
    },
    {
      "cell_type": "markdown",
      "source": [
        "3.1.1 Given a number m devise an algorithm to compute its square root.\n"
      ],
      "metadata": {
        "id": "QmqergISYs7R"
      }
    },
    {
      "cell_type": "code",
      "source": [
        "m = int(input())\n",
        "n = 1\n",
        "\n",
        "if n * n == m:\n",
        "\tprint(\"1\")\n",
        "else:\n",
        "\twhile(n * n != m):\n",
        "\t\tif n * n < m:\n",
        "\t\t\tn += 1\n",
        "\t\telse:\n",
        "\t\t\tn -= 1\n",
        "\tprint(n)"
      ],
      "metadata": {
        "id": "XwDaV-NkYveA"
      },
      "execution_count": null,
      "outputs": []
    },
    {
      "cell_type": "markdown",
      "source": [
        "3.1.2 The geometric mean is used to measure central tendancy. It is desfined as"
      ],
      "metadata": {
        "id": "FszFAjUdYyqg"
      }
    },
    {
      "cell_type": "code",
      "source": [
        "mult = 1\n",
        "count = 0\n",
        "\n",
        "for n in input().split():\n",
        "\tmult *= int(n)\n",
        "\tcount += 1\n",
        "\n",
        "gMean = (mult)**(1/count)\n",
        "print(\"Geometric mean:\", gMean)"
      ],
      "metadata": {
        "id": "kmTNuP7DY7Y0"
      },
      "execution_count": null,
      "outputs": []
    },
    {
      "cell_type": "markdown",
      "source": [
        "3.1.3 Design and implement an implement an algorithm to iteratively compute the reciprocal of a number"
      ],
      "metadata": {
        "id": "DbTCJr_hY-1k"
      }
    },
    {
      "cell_type": "code",
      "source": [
        "n = int(input())\n",
        "print(\"1/\"+str(n))"
      ],
      "metadata": {
        "id": "2o1Pjy6ZZGQB"
      },
      "execution_count": null,
      "outputs": []
    },
    {
      "cell_type": "markdown",
      "source": [
        "3.2.1 Given an integer n devise an algorithm that will find its smallest exact divisor other than one"
      ],
      "metadata": {
        "id": "7ZzRMT39ZH96"
      }
    },
    {
      "cell_type": "code",
      "source": [
        "n=int(input(\"Enter an integer: \"))\n",
        "a=[]\n",
        "for i in range(2,n+1):\n",
        "    if(n%i==0):\n",
        "        a.append(i)\n",
        "a.sort()\n",
        "print(\"Smallest divisor is:\", a[0])"
      ],
      "metadata": {
        "id": "NvczKQ_qZMgH"
      },
      "execution_count": null,
      "outputs": []
    },
    {
      "cell_type": "markdown",
      "source": [
        "3.2.2 Modify the algorithm so that the square root of n does not need to be explicitly computed"
      ],
      "metadata": {
        "id": "9A5O7-8_ZVg2"
      }
    },
    {
      "cell_type": "code",
      "source": [
        "n = int(input(\"Enter positive number: \"))\n",
        "\n",
        "print(\"Factors of\", str(n)+\": \")\n",
        "print(\"1\", end=\" \")\n",
        "for i in range(2, n+1):\n",
        "\tif(n%i == 0):\n",
        "\t\tprint(str(i), end=\" \")"
      ],
      "metadata": {
        "id": "fxop9SV7ZYhl"
      },
      "execution_count": null,
      "outputs": []
    },
    {
      "cell_type": "markdown",
      "source": [
        "3.2.3 Design and implement an algorithm that finds the smallest positive integer that has n or more divisors"
      ],
      "metadata": {
        "id": "HzTF-EyBZmht"
      }
    },
    {
      "cell_type": "code",
      "source": [
        "n = int(input(\"Enter number: \"))\n",
        "\n",
        "if n == 1:\n",
        "\tprint(\"1\")\n",
        "else:\n",
        "\tnum = 2\n",
        "\twhile True:\n",
        "\t\tcount = 1\n",
        "\t\tfor i in range(2, num+1):\n",
        "\t\t\tif num%i == 0:\n",
        "\t\t\t\tcount += 1\n",
        "\t\tif count == n:\n",
        "\t\t\tprint(num)\n",
        "\t\t\tbreak\n",
        "\t\telse:\n",
        "\t\t\tnum += 1"
      ],
      "metadata": {
        "id": "p6g2GSnfZo22"
      },
      "execution_count": null,
      "outputs": []
    },
    {
      "cell_type": "markdown",
      "source": [
        "______________________________________________________________________________________________________________________________"
      ],
      "metadata": {
        "id": "zjtm8aeUnIAt"
      }
    },
    {
      "cell_type": "markdown",
      "source": [
        "Array Techniques\n"
      ],
      "metadata": {
        "id": "IiXRTva3nKIE"
      }
    },
    {
      "cell_type": "markdown",
      "source": [
        "4.1 Rearrange the elements in an array so that they appear in reverse order\n"
      ],
      "metadata": {
        "id": "nerZHfbBnUp4"
      }
    },
    {
      "cell_type": "code",
      "source": [
        "a = [1,2,3,4,5]\n",
        "# a.reverse()\n",
        "n =5\n",
        "mid = n//2\n",
        "\n",
        "for i in range(mid):\n",
        "  a[i],a[n-1] = a[n-1],a[i]\n",
        "  n-=1\n",
        "\n",
        "print(a)"
      ],
      "metadata": {
        "colab": {
          "base_uri": "https://localhost:8080/"
        },
        "id": "dog8-Nlrnbuk",
        "outputId": "f5e6eb40-be16-48c1-9dd2-0dd97196e038"
      },
      "execution_count": 55,
      "outputs": [
        {
          "output_type": "stream",
          "name": "stdout",
          "text": [
            "[5, 4, 3, 2, 1]\n"
          ]
        }
      ]
    },
    {
      "cell_type": "markdown",
      "source": [
        "4.1.3 Design an algorithm that places the kth element of an array in position 1, the (k+1)th element in position 2, etc. The original 1st element is placed at (n-k+1) and so on."
      ],
      "metadata": {
        "id": "yYfq-gzxoLSK"
      }
    },
    {
      "cell_type": "code",
      "source": [
        "a = [1,2,3,4,5,6]\n",
        "k = 3\n",
        "\n",
        "print(a[k:]+a[:k])\n"
      ],
      "metadata": {
        "colab": {
          "base_uri": "https://localhost:8080/"
        },
        "id": "DZfwwt53n18P",
        "outputId": "514ed085-99c5-4388-e1a5-04dcc7c37f74"
      },
      "execution_count": 64,
      "outputs": [
        {
          "output_type": "stream",
          "name": "stdout",
          "text": [
            "[4, 5, 6, 1, 2, 3]\n"
          ]
        }
      ]
    },
    {
      "cell_type": "markdown",
      "source": [
        "4.2 Find the maximum number in a set of n numbers."
      ],
      "metadata": {
        "id": "nCHXe5IP0iQM"
      }
    },
    {
      "cell_type": "code",
      "source": [
        "lst = [2,3,4,6,345,7,3,6,7]\n",
        "max =lst[0]\n",
        "for i in lst:\n",
        "  if max<i:\n",
        "    max = i\n",
        "\n",
        "\n",
        "print(f\"Maximum Number in list is {max}\")"
      ],
      "metadata": {
        "colab": {
          "base_uri": "https://localhost:8080/"
        },
        "id": "SZ05iM8w04k0",
        "outputId": "938476d0-16de-4962-f227-13ba21981e04"
      },
      "execution_count": 65,
      "outputs": [
        {
          "output_type": "stream",
          "name": "stdout",
          "text": [
            "Maximum Number in list is 345\n"
          ]
        }
      ]
    },
    {
      "cell_type": "markdown",
      "source": [
        "4.3.1 Design an algorithm to find the minimum in an array"
      ],
      "metadata": {
        "id": "9RvcuMNv1Pde"
      }
    },
    {
      "cell_type": "code",
      "source": [
        "lst = [1,2,344,3,9,-44,45,3]\n",
        "min = lst[0]\n",
        "for i in lst:\n",
        "  if i < min:\n",
        "    min = i\n",
        "\n",
        "print(f\" The minimum element in array is {min}\")"
      ],
      "metadata": {
        "colab": {
          "base_uri": "https://localhost:8080/"
        },
        "id": "y4FA9xhb1Zkr",
        "outputId": "d3dd7106-58de-4891-e804-4400c88c83c5"
      },
      "execution_count": 67,
      "outputs": [
        {
          "output_type": "stream",
          "name": "stdout",
          "text": [
            " The minimum element in array is -44\n"
          ]
        }
      ]
    },
    {
      "cell_type": "markdown",
      "source": [
        "4.3.2 Design an algorithm to find the number of times the maximum occurs in an array of n elements. Only one pass through the array should be made."
      ],
      "metadata": {
        "id": "QxmHhHpG1yZj"
      }
    },
    {
      "cell_type": "code",
      "source": [
        "lst = [1,3,5,6,3,76,3,45,76,4,76]\n",
        "count =0 \n",
        "max = lst[0]\n",
        "for i in lst:\n",
        "  if i == max:\n",
        "    count+=1\n",
        "  elif max < i:\n",
        "    max =i\n",
        "    count=0\n",
        "\n",
        "print(f\"The Maximum no is {max} and the no of occurences of max is {count+1}\")"
      ],
      "metadata": {
        "colab": {
          "base_uri": "https://localhost:8080/"
        },
        "id": "-As72BRt1_Qt",
        "outputId": "d647bd1d-13d5-4ffc-a5cd-6537ae37c001"
      },
      "execution_count": 72,
      "outputs": [
        {
          "output_type": "stream",
          "name": "stdout",
          "text": [
            "The Maximum no is 76 and the no of occurences of max is 3\n"
          ]
        }
      ]
    },
    {
      "cell_type": "markdown",
      "source": [
        "4.3.3 Design an algorithm to find the maximum in a set and the position\n",
        "\n",
        "(a) where it first occurs;\n",
        "\n",
        "(b) where it last occurs."
      ],
      "metadata": {
        "id": "O3ZChyLb3BGO"
      }
    },
    {
      "cell_type": "code",
      "source": [
        "lst = [1,2,4,5,6,4,4,6,6]\n",
        "max  = lst[0]\n",
        "for i in lst:\n",
        "  if max<i:\n",
        "    max = i\n",
        "first = 0\n",
        "last = 0\n",
        "for i in range(len(lst)):\n",
        "  if max==lst[i]:\n",
        "    first = i\n",
        "    break\n",
        "for i in range(len(lst)):\n",
        "  if max==lst[i]:\n",
        "    last = i\n",
        "    \n",
        "\n",
        "print(f\"The first time {max} occurs is {first} and last time is {last}\")"
      ],
      "metadata": {
        "colab": {
          "base_uri": "https://localhost:8080/"
        },
        "id": "LzhnPYix3QGl",
        "outputId": "1f4fca2f-746c-4b27-eb3d-c5466cd1c98e"
      },
      "execution_count": 74,
      "outputs": [
        {
          "output_type": "stream",
          "name": "stdout",
          "text": [
            "The first time 6 occurs is 4 and last time is 8\n"
          ]
        }
      ]
    },
    {
      "cell_type": "markdown",
      "source": [
        "4.3.5 Design an algorithm to find the second largest value in an array of n elements"
      ],
      "metadata": {
        "id": "Q3ccK2rz4QjG"
      }
    },
    {
      "cell_type": "code",
      "source": [
        "lst = [1,23,4,5,44,3,3,5,3,6,4]\n",
        "sec_largest = lst[0]\n",
        "max = lst[0]\n",
        "for i in lst:\n",
        "  if max < i:\n",
        "    max = i\n",
        "for i in lst:\n",
        "  if i != max and sec_largest<i:\n",
        "    sec_largest = i\n",
        "\n",
        "print(f\"The Second largest number in the List is {sec_largest}\")"
      ],
      "metadata": {
        "colab": {
          "base_uri": "https://localhost:8080/"
        },
        "id": "L3l-_EAa4eDh",
        "outputId": "f0265b29-f4b2-4ec4-9e90-c117627e8641"
      },
      "execution_count": 75,
      "outputs": [
        {
          "output_type": "stream",
          "name": "stdout",
          "text": [
            "The Second largest number in the List is 23\n"
          ]
        }
      ]
    },
    {
      "cell_type": "markdown",
      "source": [
        "4.3.6 Find the position of a number x (if it occurs) in an array of n elements"
      ],
      "metadata": {
        "id": "e2KoUlQN5qoR"
      }
    },
    {
      "cell_type": "code",
      "source": [
        "a = [1,3,4,5,6,4,3,3,35,6,3,6,343,4,5]\n",
        "x = int(input())\n",
        "count = 0\n",
        "for i in a:\n",
        "  if i == x:\n",
        "    count+=1\n",
        "\n",
        "print(f\"The number of times {x} occurs in array is {count}\")"
      ],
      "metadata": {
        "colab": {
          "base_uri": "https://localhost:8080/"
        },
        "id": "MWLyZxM55xHZ",
        "outputId": "6effcba6-d02c-47bf-b407-8a29e0ab136c"
      },
      "execution_count": 76,
      "outputs": [
        {
          "output_type": "stream",
          "name": "stdout",
          "text": [
            "4\n",
            "The number of times 4 occurs in array is 3\n"
          ]
        }
      ]
    },
    {
      "cell_type": "markdown",
      "source": [
        "4.3.8 Design an algorithm to find the minimum, the maximum, and how many times they both occur in an array of n elements."
      ],
      "metadata": {
        "id": "yR0j66A06SE0"
      }
    },
    {
      "cell_type": "code",
      "source": [
        "lst = [1,2,3,33,1,1,3,3,33,3,33]\n",
        "min = lst[0]\n",
        "max = min\n",
        "\n",
        "for i in lst:\n",
        "  if i>max:\n",
        "    max =i\n",
        "  elif i<min:\n",
        "    min =i\n",
        "\n",
        "countmax=0\n",
        "countmin =0\n",
        "for i in lst:\n",
        "  if i==max:\n",
        "    countmax+=1\n",
        "  if i == min:\n",
        "    countmin+=1\n",
        "print(f\"The no of times {max} occurs {countmax}\")\n",
        "print(f\"The no of times {min} occurs {countmin}\")"
      ],
      "metadata": {
        "colab": {
          "base_uri": "https://localhost:8080/"
        },
        "id": "nBSZmBzm6eee",
        "outputId": "40d41059-58b4-4898-d684-608adc6ad2d0"
      },
      "execution_count": 77,
      "outputs": [
        {
          "output_type": "stream",
          "name": "stdout",
          "text": [
            "The no of times 33 occurs 3\n",
            "The no of times 1 occurs 3\n"
          ]
        }
      ]
    },
    {
      "cell_type": "markdown",
      "source": [
        "4.4 Remove all duplicates from an ordered array and contract the array accordingly"
      ],
      "metadata": {
        "id": "Qlqsg3N58rhB"
      }
    },
    {
      "cell_type": "code",
      "source": [
        "lst = list(map(int,input(\"\\nEnter the Numbers: \").split(\" \")))\n",
        "lst1 = set(lst)\n",
        "print(\"The List after removing duplicate entries :\")\n",
        "print(lst1)"
      ],
      "metadata": {
        "colab": {
          "base_uri": "https://localhost:8080/"
        },
        "id": "zW6VdpFd89yr",
        "outputId": "c1cc945d-9152-4592-fb49-75a8cd4feb71"
      },
      "execution_count": 79,
      "outputs": [
        {
          "output_type": "stream",
          "name": "stdout",
          "text": [
            "\n",
            "Enter the Numbers: 1 1 2 2 3 3 4\n",
            "The List after removing duplicate entries :\n",
            "{1, 2, 3, 4}\n"
          ]
        }
      ]
    }
  ]
}